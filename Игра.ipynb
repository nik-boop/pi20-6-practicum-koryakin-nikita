{
 "cells": [
  {
   "cell_type": "code",
   "execution_count": 1,
   "metadata": {},
   "outputs": [
    {
     "name": "stdout",
     "output_type": "stream",
     "text": [
      "|   *   *   *   *   *   |   ИгрокI :0\n",
      "|   *   *   *   *   *   |   ИгрокII :0\n",
      "|   *   *   *   *   *   |   ИгрокIII :0\n",
      "|   *   *   *   *   *   |   Ход игорка:  I\n",
      "В случае возникновения вопроса введите '?'\n",
      "1 1\n",
      "1 1\n"
     ]
    }
   ],
   "source": [
    "import re\n",
    "v = \"|*****||*****||*****||*****|\"\n",
    "pl=['I','II','III']\n",
    "\n",
    "#print(v)\n",
    "\n",
    "def vvd(): # Функция вывода интерфейса\n",
    "    global v \n",
    "    global pl \n",
    "    global k \n",
    "    for i in range(len(v)):\n",
    "        if i%7 == 0:\n",
    "            for j in range(i,i+7):\n",
    "                print(v[j],' ',end=' '); \n",
    "            if i < 21:\n",
    "                print(\"Игрок\",str(pl[i//7]), \" :\",str(bl[k]),sep='')\n",
    "            else:\n",
    "                print(\"Ход игорка: \",pl[k])\n",
    "def inp(): # Функция ввожа координат\n",
    "    global a # Инициализация а как глобальной переменной\n",
    "    global b # Инициализация b как глобальной переменной\n",
    "    s = input()\n",
    "    if \"?\" in s:\n",
    "        print(\"...\")\n",
    "    elif re.search(r'[^0-9\\s]', s): # Есть ли символы кроме цифр и пробелов\n",
    "        print(\"Неверно введены координаты\")\n",
    "    else:\n",
    "        s = re.split(r'\\D+', s) # Разбиение строки на числа\n",
    "        if len(s)==2:\n",
    "            [a,b]=[int(s[0]),int(s[1])]\n",
    "            print(a,b) # Отладка\n",
    "        else:\n",
    "            print(\"Координаты должны состоять из двух чисел\")\n",
    "k = 0\n",
    "bl=[0,0,0]\n",
    "vvd()\n",
    "print(\"В случае возникновения вопроса введите '?'\")\n",
    "inp()\n",
    "s = int()\n",
    "s=(b-1)*7+a-1\n",
    "if v[s]==\"*\":\n",
    "    for i in range(-1,2):\n",
    "        if b+i>0 and b+i<5:\n",
    "            for j in range(-1,2):\n",
    "                s= (b+i)*7+a+j-1\n",
    "                if v[s]==pl[k]:\n",
    "                    bl[k]+=1"
   ]
  }
 ],
 "metadata": {
  "kernelspec": {
   "display_name": "Python 3",
   "language": "python",
   "name": "python3"
  },
  "language_info": {
   "codemirror_mode": {
    "name": "ipython",
    "version": 3
   },
   "file_extension": ".py",
   "mimetype": "text/x-python",
   "name": "python",
   "nbconvert_exporter": "python",
   "pygments_lexer": "ipython3",
   "version": "3.8.3"
  }
 },
 "nbformat": 4,
 "nbformat_minor": 4
}
